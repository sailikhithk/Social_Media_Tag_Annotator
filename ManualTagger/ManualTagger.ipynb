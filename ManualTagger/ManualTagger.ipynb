{
 "cells": [
  {
   "cell_type": "code",
   "execution_count": 35,
   "metadata": {},
   "outputs": [],
   "source": [
    "import pandas as pd\n",
    "\n",
    "#User Interface\n",
    "#Save low confidence data into a file for later analysis\n",
    "#Print outs the low confidence data\n",
    "class ManualTagger:\n",
    "    \n",
    "    def __init__(self, data_frame):\n",
    "        self.df = data_frame\n",
    "        \n",
    "        \n",
    "    def tag_this_topic(self, topic_title):\n",
    "        filt = (self.df['Topic Title'] == topic_title)\n",
    "        tag_in_df = self.df.loc[filt, 'Tags'] #filt gives us the row we want, and 'Tag' gives us the column that we want\n",
    "        return  tag_in_df"
   ]
  },
  {
   "cell_type": "code",
   "execution_count": 36,
   "metadata": {},
   "outputs": [
    {
     "name": "stdout",
     "output_type": "stream",
     "text": [
      "3    ['python-3.x', 'nlp', 'lda', 'topic-modeling']\n",
      "Name: Tags, dtype: object\n"
     ]
    }
   ],
   "source": [
    "if __name__=='__main__':\n",
    "    data = pd.read_csv('StackOverflow.csv')\n",
    "    data.reset_index(drop=True, inplace=False)\n",
    "    tagger = ManualTagger(data)\n",
    "    print(tagger.tag_this_topic(\"Topic score/weight varies for seen text Lda\"))"
   ]
  },
  {
   "cell_type": "code",
   "execution_count": null,
   "metadata": {},
   "outputs": [],
   "source": []
  },
  {
   "cell_type": "code",
   "execution_count": null,
   "metadata": {},
   "outputs": [],
   "source": []
  }
 ],
 "metadata": {
  "kernelspec": {
   "display_name": "Python 3",
   "language": "python",
   "name": "python3"
  },
  "language_info": {
   "codemirror_mode": {
    "name": "ipython",
    "version": 3
   },
   "file_extension": ".py",
   "mimetype": "text/x-python",
   "name": "python",
   "nbconvert_exporter": "python",
   "pygments_lexer": "ipython3",
   "version": "3.7.4"
  }
 },
 "nbformat": 4,
 "nbformat_minor": 2
}
