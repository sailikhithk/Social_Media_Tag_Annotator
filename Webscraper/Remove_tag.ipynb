{
 "cells": [
  {
   "cell_type": "code",
   "execution_count": 1,
   "metadata": {},
   "outputs": [],
   "source": [
    "import pandas as pd \n",
    "import string"
   ]
  },
  {
   "cell_type": "code",
   "execution_count": 2,
   "metadata": {},
   "outputs": [],
   "source": [
    "data = pd.read_csv(\"StackOverflow_nlp_and_web.csv\") "
   ]
  },
  {
   "cell_type": "code",
   "execution_count": 3,
   "metadata": {},
   "outputs": [],
   "source": [
    "titles = data['Topic Title'].tolist()\n",
    "tags = data['Tags'].tolist()\n",
    "comments = data['Leading Comment'].tolist()"
   ]
  },
  {
   "cell_type": "code",
   "execution_count": 4,
   "metadata": {},
   "outputs": [],
   "source": [
    "def convert_to_list(tags):\n",
    "   temp = tags.replace(',','') \n",
    "   temp = temp.replace('[','') \n",
    "   temp = temp.replace(']','') \n",
    "   temp = temp.replace('\\'','') \n",
    "   temp = temp.split()\n",
    "   return temp"
   ]
  },
  {
   "cell_type": "code",
   "execution_count": 5,
   "metadata": {},
   "outputs": [],
   "source": [
    "def remove_tag(tags, tags_to_scrape):\n",
    "    new_tags = []\n",
    "    for e in tags:\n",
    "        temp = []\n",
    "        tag = convert_to_list(e)\n",
    "        for elem in tag:\n",
    "            if elem in tags_to_scrape:\n",
    "                temp.append(elem)\n",
    "        new_tags.append(temp)\n",
    "    return new_tags"
   ]
  },
  {
   "cell_type": "code",
   "execution_count": 7,
   "metadata": {},
   "outputs": [],
   "source": [
    "tags_to_scrape = ['nlp', 'nltk', 'bert', 'word-embedding','text-classification', 'sentiment-analysis', 'tf-idf', \n",
    "                      'scikit-learn', 'text-mining', 'selenium', 'selenium-webdriver', 'web-scraping', 'splinter',\n",
    "                      'beautifulsoup', 'scrapy']\n",
    "\n",
    "new_tags = remove_tag(tags, tags_to_scrape)\n",
    "attributeDict = {\n",
    "                    'Topic Title'       :   titles,\n",
    "                    'Tags'              :   new_tags,\n",
    "                    'Leading Comment'   :   comments}\n",
    "\n",
    "#print (comments)\n",
    "topicDataframe =  pd.DataFrame(attributeDict)\n",
    "topicDataframe.to_csv('StackOverflow_new_tags.csv') "
   ]
  },
  {
   "cell_type": "code",
   "execution_count": null,
   "metadata": {},
   "outputs": [],
   "source": []
  }
 ],
 "metadata": {
  "kernelspec": {
   "display_name": "Python 3",
   "language": "python",
   "name": "python3"
  },
  "language_info": {
   "codemirror_mode": {
    "name": "ipython",
    "version": 3
   },
   "file_extension": ".py",
   "mimetype": "text/x-python",
   "name": "python",
   "nbconvert_exporter": "python",
   "pygments_lexer": "ipython3",
   "version": "3.8.2"
  }
 },
 "nbformat": 4,
 "nbformat_minor": 4
}
