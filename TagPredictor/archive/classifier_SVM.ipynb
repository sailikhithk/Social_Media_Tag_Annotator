{
 "cells": [
  {
   "cell_type": "code",
   "execution_count": null,
   "metadata": {},
   "outputs": [],
   "source": [
    "from sklearn.multiclass import OneVsRestClassifier\n",
    "from sklearn.svm import SVC\n",
    "from sklearn.metrics import accuracy_score\n",
    "\n",
    "%run classifier.ipynb\n",
    "\n",
    "class Classifier_SVM(Classifier):\n",
    "    def __init__(self, kernel='linear'):\n",
    "        self.kernel = kernel\n",
    "\n",
    "    def train(self, Train_X_Tfidf, Train_Y, Test_X_Tfidf, Test_Y):\n",
    "        print(\"Running SVM Classifier\")\n",
    "\n",
    "        # Classifier - Algorithm - SVM\n",
    "        # fit the training dataset on the classifier\n",
    "        self.model = OneVsRestClassifier(SVC(C=1.0, kernel=self.kernel, degree=3, gamma='auto'))\n",
    "        self.model.fit(Train_X_Tfidf,Train_Y)\n",
    "        # predict the labels on validation dataset\n",
    "        predictions_SVM = self.model.predict(Test_X_Tfidf)\n",
    "        # Use accuracy_score function to get the accuracy\n",
    "        print(\"SVM Accuracy Score -> \",accuracy_score(predictions_SVM, Test_Y)*100)\n",
    "        \n",
    "        return self.model\n",
    "\n",
    "    def predict(self, df):\n",
    "        predictions = self.model.predict(df)\n",
    "        \n",
    "        return predictions"
   ]
  }
 ],
 "metadata": {
  "kernelspec": {
   "display_name": "Python 3",
   "language": "python",
   "name": "python3"
  },
  "language_info": {
   "codemirror_mode": {
    "name": "ipython",
    "version": 3
   },
   "file_extension": ".py",
   "mimetype": "text/x-python",
   "name": "python",
   "nbconvert_exporter": "python",
   "pygments_lexer": "ipython3",
   "version": "3.7.3"
  }
 },
 "nbformat": 4,
 "nbformat_minor": 2
}
