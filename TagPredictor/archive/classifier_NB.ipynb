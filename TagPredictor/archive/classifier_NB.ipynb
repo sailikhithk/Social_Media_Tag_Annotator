{
 "cells": [
  {
   "cell_type": "code",
   "execution_count": null,
   "metadata": {},
   "outputs": [],
   "source": [
    "from sklearn.multiclass import OneVsRestClassifier\n",
    "from sklearn.naive_bayes import MultinomialNB\n",
    "from sklearn.metrics import accuracy_score\n",
    "\n",
    "%run classifier.ipynb\n",
    "\n",
    "class Classifier_NB(Classifier):\n",
    "    def train(self, Train_X_Tfidf, Train_Y, Test_X_Tfidf, Test_Y):\n",
    "        print(\"Running Naive Bayes Classifier\")\n",
    "        \n",
    "        # fit the training dataset on the NB classifier\n",
    "        self.model = OneVsRestClassifier(MultinomialNB())\n",
    "        self.model.fit(Train_X_Tfidf,Train_Y)\n",
    "        # predict the labels on validation dataset\n",
    "        predictions_NB = self.model.predict(Test_X_Tfidf)\n",
    "        # Use accuracy_score function to get the accuracy\n",
    "        print(\"Naive Bayes Accuracy Score -> \",accuracy_score(predictions_NB, Test_Y)*100)\n",
    "        \n",
    "        return self\n",
    "        \n",
    "    def predict(self, df):\n",
    "        predictions = self.model.predict(df)\n",
    "        \n",
    "        return predictions"
   ]
  }
 ],
 "metadata": {
  "kernelspec": {
   "display_name": "Python 3",
   "language": "python",
   "name": "python3"
  },
  "language_info": {
   "codemirror_mode": {
    "name": "ipython",
    "version": 3
   },
   "file_extension": ".py",
   "mimetype": "text/x-python",
   "name": "python",
   "nbconvert_exporter": "python",
   "pygments_lexer": "ipython3",
   "version": "3.7.3"
  }
 },
 "nbformat": 4,
 "nbformat_minor": 2
}
